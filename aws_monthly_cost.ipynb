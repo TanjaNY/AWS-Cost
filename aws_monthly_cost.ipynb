import boto3
import datetime
import pandas as pd
from pandas import json_normalize



# Initialize the Cost Explorer client
ce_client = boto3.client('ce')

# Set the time range for the cost and usage data you want to retrieve

#from the biginning of the month until today

end_date = datetime.date.today()
start_date = end_date.replace(day=1)

#define start and end date

#start_date = datetime.datetime(2024, 1, 1)
#end_date = datetime.datetime(2024, 1, 25)



# Define the metrics you want to retrieve
metrics = ['UsageQuantity','NetUnblendedCost']

# Make the API request
response = ce_client.get_cost_and_usage(
    TimePeriod={
        'Start': start_date.strftime('%Y-%m-%d'),
        'End': end_date.strftime('%Y-%m-%d')
    },
    Granularity='MONTHLY',  # You can change the granularity (DAILY, MONTHLY, etc.)
    Metrics=metrics,
    GroupBy=[
        {
            'Type': 'DIMENSION',
            'Key': 'SERVICE'  # Grouping by AWS Service
        }
    ]
)

# Print the response
#print(response)

# Normalize the nested JSON data
df = json_normalize(
    response['ResultsByTime'], 
    record_path='Groups',  # Points to the 'Groups' within each entry in 'ResultsByTime'
    meta=[
        ['TimePeriod', 'Start'],
        ['TimePeriod', 'End'],
        'Estimated'  # Add other relevant fields here
    ],
    errors='ignore'
)




df['Metrics.NetUnblendedCost.Amount'] = df['Metrics.NetUnblendedCost.Amount'].astype(float)

sum_column1 = df['Metrics.NetUnblendedCost.Amount'].sum().round(2)


print(f"The monthly charge is: {sum_column1}")


df.head(100)



